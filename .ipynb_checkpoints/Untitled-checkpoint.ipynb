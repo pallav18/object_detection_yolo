{
 "cells": [
  {
   "cell_type": "code",
   "execution_count": 22,
   "id": "ef8f559a",
   "metadata": {},
   "outputs": [
    {
     "name": "stderr",
     "output_type": "stream",
     "text": [
      "[tcp @ 0x55958c6c3cc0] Failed to resolve hostname wkcdn.wakau.n: Name or service not known\n"
     ]
    },
    {
     "data": {
      "text/plain": [
       "< cv2.VideoCapture 0x7f62cccec970>"
      ]
     },
     "execution_count": 22,
     "metadata": {},
     "output_type": "execute_result"
    }
   ],
   "source": [
    "import cv2\n",
    "\n",
    "def detect_object(video_url):\n",
    "    cap = cv2.VideoCapture(video_url)\n",
    "    (grabbed, frame) = cap.read()\n",
    "#     if frame == None:\n",
    "#         print('video not found')\n",
    "    return cap\n",
    "\n",
    "\n",
    "# video_url = ''\n",
    "video_url = 'https://wkcdn.wakau.n/wakau/videoContent/4262-1674247688-1675160133.mp4'\n",
    "result = detect_object(video_url)\n",
    "result"
   ]
  },
  {
   "cell_type": "code",
   "execution_count": 23,
   "id": "57c94828",
   "metadata": {},
   "outputs": [],
   "source": [
    "(grabbed, frame) = result.read()\n",
    "# frame"
   ]
  },
  {
   "cell_type": "code",
   "execution_count": 25,
   "id": "af2dcf83",
   "metadata": {},
   "outputs": [
    {
     "name": "stdout",
     "output_type": "stream",
     "text": [
      "True\n"
     ]
    }
   ],
   "source": [
    "if frame is None:\n",
    "    print(True)"
   ]
  },
  {
   "cell_type": "code",
   "execution_count": null,
   "id": "cfb4464c",
   "metadata": {},
   "outputs": [],
   "source": []
  },
  {
   "cell_type": "code",
   "execution_count": null,
   "id": "4e69096c",
   "metadata": {},
   "outputs": [],
   "source": [
    "import cv2\n"
   ]
  }
 ],
 "metadata": {
  "kernelspec": {
   "display_name": "Python 3 (ipykernel)",
   "language": "python",
   "name": "python3"
  },
  "language_info": {
   "codemirror_mode": {
    "name": "ipython",
    "version": 3
   },
   "file_extension": ".py",
   "mimetype": "text/x-python",
   "name": "python",
   "nbconvert_exporter": "python",
   "pygments_lexer": "ipython3",
   "version": "3.9.12"
  }
 },
 "nbformat": 4,
 "nbformat_minor": 5
}
